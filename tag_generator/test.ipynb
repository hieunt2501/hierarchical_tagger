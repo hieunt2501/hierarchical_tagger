{
 "cells": [
  {
   "cell_type": "code",
   "execution_count": 1,
   "metadata": {},
   "outputs": [],
   "source": [
    "from utils.helpers import *\n",
    "from utils.preprocess_data import *"
   ]
  },
  {
   "cell_type": "code",
   "execution_count": null,
   "metadata": {},
   "outputs": [],
   "source": [
    "import pandas as pd\n",
    "\n",
    "data = pd.read_csv(\"./data/augment_data.csv\", encoding=\"utf8\")\n",
    "data.incorrect = data.incorrect.str.strip()\n",
    "data.correct = data.correct.str.strip()"
   ]
  },
  {
   "cell_type": "code",
   "execution_count": 3,
   "metadata": {},
   "outputs": [
    {
     "data": {
      "text/html": [
       "<div>\n",
       "<style scoped>\n",
       "    .dataframe tbody tr th:only-of-type {\n",
       "        vertical-align: middle;\n",
       "    }\n",
       "\n",
       "    .dataframe tbody tr th {\n",
       "        vertical-align: top;\n",
       "    }\n",
       "\n",
       "    .dataframe thead th {\n",
       "        text-align: right;\n",
       "    }\n",
       "</style>\n",
       "<table border=\"1\" class=\"dataframe\">\n",
       "  <thead>\n",
       "    <tr style=\"text-align: right;\">\n",
       "      <th></th>\n",
       "      <th>incorrect</th>\n",
       "      <th>correct</th>\n",
       "    </tr>\n",
       "  </thead>\n",
       "  <tbody>\n",
       "    <tr>\n",
       "      <th>0</th>\n",
       "      <td>Hkacs với những lần trươ1c, tàu họ đã được tàu...</td>\n",
       "      <td>Khác với những lần trước, tàu họ đã được tàu t...</td>\n",
       "    </tr>\n",
       "    <tr>\n",
       "      <th>1</th>\n",
       "      <td>Cầu thủ mang về bàn ghỡ hòa cho đội khách Tcho...</td>\n",
       "      <td>Cầu thủ mang về bàn gỡ hòa cho đội khách Tchoy...</td>\n",
       "    </tr>\n",
       "    <tr>\n",
       "      <th>2</th>\n",
       "      <td>Sau đó tôi dô4 thế nào nó cũng chỉ nghi một ch...</td>\n",
       "      <td>Sau đó tôi dỗ thế nào nó cũng chỉ ngồi một chỗ...</td>\n",
       "    </tr>\n",
       "    <tr>\n",
       "      <th>3</th>\n",
       "      <td>ĐB của Đồng bằng sụng Cửu Long này xúc động gl...</td>\n",
       "      <td>ĐB của Đồng bằng sông Cửu Long này xúc động nó...</td>\n",
       "    </tr>\n",
       "    <tr>\n",
       "      <th>4</th>\n",
       "      <td>Mạch điều jgifren trung tâm.</td>\n",
       "      <td>Mạch điều khiển trung tâm.</td>\n",
       "    </tr>\n",
       "  </tbody>\n",
       "</table>\n",
       "</div>"
      ],
      "text/plain": [
       "                                           incorrect  \\\n",
       "0  Hkacs với những lần trươ1c, tàu họ đã được tàu...   \n",
       "1  Cầu thủ mang về bàn ghỡ hòa cho đội khách Tcho...   \n",
       "2  Sau đó tôi dô4 thế nào nó cũng chỉ nghi một ch...   \n",
       "3  ĐB của Đồng bằng sụng Cửu Long này xúc động gl...   \n",
       "4                       Mạch điều jgifren trung tâm.   \n",
       "\n",
       "                                             correct  \n",
       "0  Khác với những lần trước, tàu họ đã được tàu t...  \n",
       "1  Cầu thủ mang về bàn gỡ hòa cho đội khách Tchoy...  \n",
       "2  Sau đó tôi dỗ thế nào nó cũng chỉ ngồi một chỗ...  \n",
       "3  ĐB của Đồng bằng sông Cửu Long này xúc động nó...  \n",
       "4                         Mạch điều khiển trung tâm.  "
      ]
     },
     "execution_count": 3,
     "metadata": {},
     "output_type": "execute_result"
    }
   ],
   "source": [
    "data.head(5)"
   ]
  },
  {
   "cell_type": "code",
   "execution_count": 2,
   "metadata": {},
   "outputs": [],
   "source": [
    "def process_labels(correct, incorrect):\n",
    "    _, labels = perfect_align(incorrect, correct, 3)\n",
    "    final_label = []\n",
    "    skip_flag = False\n",
    "    for idx in range(len(labels)):\n",
    "        label = labels[idx]\n",
    "        if idx + 1 < len(labels):\n",
    "            next_label = labels[idx+1]\n",
    "            if label[0].startswith(\"KEEP\") and next_label[0].startswith(\"APPEND\"):\n",
    "                final_label.append([next_label[0], label[1]])\n",
    "                skip_flag = True\n",
    "                if idx + 1 == len(labels) - 1:\n",
    "                    break\n",
    "            elif label[0].startswith(\"APPEND\") and next_label[0].startswith(\"APPEND\"):\n",
    "                if final_label:\n",
    "                    tmp_label, tmp_e = final_label[-1]\n",
    "                    tmp_label = tmp_label + next_label[0][-1]\n",
    "                    final_label[-1] = [tmp_label, tmp_e]\n",
    "                    if idx + 1 == len(labels) - 1:\n",
    "                        break\n",
    "                else:\n",
    "                    tmp_label, tmp_e = label\n",
    "                    tmp_label = tmp_label + next_label[0][-1]\n",
    "                    final_label.append([tmp_label, tmp_e])\n",
    "                    skip_flag = True\n",
    "            elif skip_flag:\n",
    "                skip_flag = False\n",
    "            else:\n",
    "                final_label.append(label)\n",
    "                skip_flag = False\n",
    "        else:\n",
    "            final_label.append(label)\n",
    "\n",
    "    if len(final_label) == len(incorrect) + 1:\n",
    "        if final_label[0][1] != final_label[1][1]:\n",
    "            print(f\"Length labels not equal for sentence: {incorrect}\")\n",
    "            raise Exception\n",
    "\n",
    "    elif len(final_label) != len(incorrect):\n",
    "        print(f\"Length labels not equal for sentence: {incorrect}\")\n",
    "        raise Exception\n",
    "\n",
    "    return [label[0] for label in final_label]"
   ]
  },
  {
   "cell_type": "code",
   "execution_count": 5,
   "metadata": {},
   "outputs": [],
   "source": [
    "corrects = data.correct.values.tolist()\n",
    "incorrects = data.incorrect.values.tolist()"
   ]
  },
  {
   "cell_type": "code",
   "execution_count": 6,
   "metadata": {},
   "outputs": [],
   "source": [
    "def extract_general_tag(label):\n",
    "    for i in range(len(label)):\n",
    "        if label[i].startswith(\"REPLACE\") or label[i].startswith(\"APPEND\"):\n",
    "            label[i] = label[i].split(\"_\")[0]\n",
    "    return label"
   ]
  },
  {
   "cell_type": "code",
   "execution_count": null,
   "metadata": {},
   "outputs": [],
   "source": [
    "from tqdm import tqdm\n",
    "edit_tags = []\n",
    "general_tags = []\n",
    "for correct, incorrect in tqdm(zip(corrects[:500], incorrects[:500])):\n",
    "    edit_tag = process_labels(correct, incorrect)\n",
    "    general_tag = extract_general_tag(edit_tag)\n",
    "    assert len(edit_tag)==len(general_tag), \"LENGTH NOT EQUAL WHILE EXTRACTING\"\n",
    "    edit_tags.append(edit_tag)\n",
    "    general_tags.append(general_tag)"
   ]
  },
  {
   "cell_type": "code",
   "execution_count": null,
   "metadata": {},
   "outputs": [],
   "source": [
    "import pandas as pd\n",
    "\n",
    "df = pd.DataFrame({\n",
    "    \"incorrect\": incorrects[:500],\n",
    "    \"correct\": corrects[:500],\n",
    "    \"edit_tags\": edit_tags,\n",
    "    \"general_tags\": general_tags\n",
    "})\n",
    "df.to_csv(\"test_dataset.csv\", encoding=\"utf8\")"
   ]
  },
  {
   "cell_type": "code",
   "execution_count": 3,
   "metadata": {},
   "outputs": [
    {
     "data": {
      "text/plain": [
       "['APPEND_g', 'REPLACE_i', 'KEEP', 'KEEP', 'KEEP']"
      ]
     },
     "execution_count": 3,
     "metadata": {},
     "output_type": "execute_result"
    }
   ],
   "source": [
    "process_labels(\"giống\", \"rống\")"
   ]
  }
 ],
 "metadata": {
  "interpreter": {
   "hash": "bccedb9185a2dca495a82c5b4fdacff56379734a7ea8bec7750a28506953a324"
  },
  "kernelspec": {
   "display_name": "Python 3.8.12 ('automation')",
   "language": "python",
   "name": "python3"
  },
  "language_info": {
   "codemirror_mode": {
    "name": "ipython",
    "version": 3
   },
   "file_extension": ".py",
   "mimetype": "text/x-python",
   "name": "python",
   "nbconvert_exporter": "python",
   "pygments_lexer": "ipython3",
   "version": "3.8.12"
  },
  "orig_nbformat": 4
 },
 "nbformat": 4,
 "nbformat_minor": 2
}
